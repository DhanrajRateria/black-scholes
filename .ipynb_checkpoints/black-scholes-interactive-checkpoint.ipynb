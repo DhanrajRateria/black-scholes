{
 "cells": [
  {
   "cell_type": "code",
   "execution_count": 2,
   "id": "730fa6a1-add3-4531-86cd-ef5683b38815",
   "metadata": {},
   "outputs": [
    {
     "name": "stdout",
     "output_type": "stream",
     "text": [
      "Collecting jupyter (from -r requirements.txt (line 1))\n",
      "  Using cached jupyter-1.1.1-py2.py3-none-any.whl.metadata (2.0 kB)\n",
      "Collecting ipywidgets (from -r requirements.txt (line 2))\n",
      "  Using cached ipywidgets-8.1.5-py3-none-any.whl.metadata (2.3 kB)\n",
      "Requirement already satisfied: plotly in c:\\users\\dhanr\\appdata\\local\\programs\\python\\python39\\lib\\site-packages (from -r requirements.txt (line 3)) (5.24.1)\n",
      "Requirement already satisfied: numpy in c:\\users\\dhanr\\appdata\\local\\programs\\python\\python39\\lib\\site-packages (from -r requirements.txt (line 4)) (1.26.0)\n",
      "Requirement already satisfied: scipy in c:\\users\\dhanr\\appdata\\local\\programs\\python\\python39\\lib\\site-packages (from -r requirements.txt (line 5)) (1.11.2)\n",
      "Requirement already satisfied: notebook in c:\\users\\dhanr\\appdata\\local\\programs\\python\\python39\\lib\\site-packages (from jupyter->-r requirements.txt (line 1)) (7.2.2)\n",
      "Collecting jupyter-console (from jupyter->-r requirements.txt (line 1))\n",
      "  Using cached jupyter_console-6.6.3-py3-none-any.whl.metadata (5.8 kB)\n",
      "Requirement already satisfied: nbconvert in c:\\users\\dhanr\\appdata\\local\\programs\\python\\python39\\lib\\site-packages (from jupyter->-r requirements.txt (line 1)) (7.16.4)\n",
      "Requirement already satisfied: ipykernel in c:\\users\\dhanr\\appdata\\local\\programs\\python\\python39\\lib\\site-packages (from jupyter->-r requirements.txt (line 1)) (6.29.5)\n",
      "Requirement already satisfied: jupyterlab in c:\\users\\dhanr\\appdata\\local\\programs\\python\\python39\\lib\\site-packages (from jupyter->-r requirements.txt (line 1)) (4.2.5)\n",
      "Requirement already satisfied: comm>=0.1.3 in c:\\users\\dhanr\\appdata\\local\\programs\\python\\python39\\lib\\site-packages (from ipywidgets->-r requirements.txt (line 2)) (0.2.2)\n",
      "Requirement already satisfied: ipython>=6.1.0 in c:\\users\\dhanr\\appdata\\local\\programs\\python\\python39\\lib\\site-packages (from ipywidgets->-r requirements.txt (line 2)) (8.18.1)\n",
      "Requirement already satisfied: traitlets>=4.3.1 in c:\\users\\dhanr\\appdata\\local\\programs\\python\\python39\\lib\\site-packages (from ipywidgets->-r requirements.txt (line 2)) (5.14.3)\n",
      "Collecting widgetsnbextension~=4.0.12 (from ipywidgets->-r requirements.txt (line 2))\n",
      "  Using cached widgetsnbextension-4.0.13-py3-none-any.whl.metadata (1.6 kB)\n",
      "Collecting jupyterlab-widgets~=3.0.12 (from ipywidgets->-r requirements.txt (line 2))\n",
      "  Using cached jupyterlab_widgets-3.0.13-py3-none-any.whl.metadata (4.1 kB)\n",
      "Requirement already satisfied: tenacity>=6.2.0 in c:\\users\\dhanr\\appdata\\local\\programs\\python\\python39\\lib\\site-packages (from plotly->-r requirements.txt (line 3)) (8.2.3)\n",
      "Requirement already satisfied: packaging in c:\\users\\dhanr\\appdata\\local\\programs\\python\\python39\\lib\\site-packages (from plotly->-r requirements.txt (line 3)) (23.1)\n",
      "Requirement already satisfied: decorator in c:\\users\\dhanr\\appdata\\local\\programs\\python\\python39\\lib\\site-packages (from ipython>=6.1.0->ipywidgets->-r requirements.txt (line 2)) (5.1.1)\n",
      "Requirement already satisfied: jedi>=0.16 in c:\\users\\dhanr\\appdata\\local\\programs\\python\\python39\\lib\\site-packages (from ipython>=6.1.0->ipywidgets->-r requirements.txt (line 2)) (0.19.1)\n",
      "Requirement already satisfied: matplotlib-inline in c:\\users\\dhanr\\appdata\\local\\programs\\python\\python39\\lib\\site-packages (from ipython>=6.1.0->ipywidgets->-r requirements.txt (line 2)) (0.1.7)\n",
      "Requirement already satisfied: prompt-toolkit<3.1.0,>=3.0.41 in c:\\users\\dhanr\\appdata\\local\\programs\\python\\python39\\lib\\site-packages (from ipython>=6.1.0->ipywidgets->-r requirements.txt (line 2)) (3.0.47)\n",
      "Requirement already satisfied: pygments>=2.4.0 in c:\\users\\dhanr\\appdata\\local\\programs\\python\\python39\\lib\\site-packages (from ipython>=6.1.0->ipywidgets->-r requirements.txt (line 2)) (2.17.2)\n",
      "Requirement already satisfied: stack-data in c:\\users\\dhanr\\appdata\\local\\programs\\python\\python39\\lib\\site-packages (from ipython>=6.1.0->ipywidgets->-r requirements.txt (line 2)) (0.6.3)\n",
      "Requirement already satisfied: typing-extensions in c:\\users\\dhanr\\appdata\\local\\programs\\python\\python39\\lib\\site-packages (from ipython>=6.1.0->ipywidgets->-r requirements.txt (line 2)) (4.8.0)\n",
      "Requirement already satisfied: exceptiongroup in c:\\users\\dhanr\\appdata\\local\\programs\\python\\python39\\lib\\site-packages (from ipython>=6.1.0->ipywidgets->-r requirements.txt (line 2)) (1.1.3)\n",
      "Requirement already satisfied: colorama in c:\\users\\dhanr\\appdata\\local\\programs\\python\\python39\\lib\\site-packages (from ipython>=6.1.0->ipywidgets->-r requirements.txt (line 2)) (0.4.6)\n",
      "Requirement already satisfied: debugpy>=1.6.5 in c:\\users\\dhanr\\appdata\\local\\programs\\python\\python39\\lib\\site-packages (from ipykernel->jupyter->-r requirements.txt (line 1)) (1.8.5)\n",
      "Requirement already satisfied: jupyter-client>=6.1.12 in c:\\users\\dhanr\\appdata\\local\\programs\\python\\python39\\lib\\site-packages (from ipykernel->jupyter->-r requirements.txt (line 1)) (8.6.2)\n",
      "Requirement already satisfied: jupyter-core!=5.0.*,>=4.12 in c:\\users\\dhanr\\appdata\\local\\programs\\python\\python39\\lib\\site-packages (from ipykernel->jupyter->-r requirements.txt (line 1)) (5.7.2)\n",
      "Requirement already satisfied: nest-asyncio in c:\\users\\dhanr\\appdata\\local\\programs\\python\\python39\\lib\\site-packages (from ipykernel->jupyter->-r requirements.txt (line 1)) (1.6.0)\n",
      "Requirement already satisfied: psutil in c:\\users\\dhanr\\appdata\\local\\programs\\python\\python39\\lib\\site-packages (from ipykernel->jupyter->-r requirements.txt (line 1)) (5.9.5)\n",
      "Requirement already satisfied: pyzmq>=24 in c:\\users\\dhanr\\appdata\\local\\programs\\python\\python39\\lib\\site-packages (from ipykernel->jupyter->-r requirements.txt (line 1)) (26.2.0)\n",
      "Requirement already satisfied: tornado>=6.1 in c:\\users\\dhanr\\appdata\\local\\programs\\python\\python39\\lib\\site-packages (from ipykernel->jupyter->-r requirements.txt (line 1)) (6.4.1)\n",
      "Requirement already satisfied: async-lru>=1.0.0 in c:\\users\\dhanr\\appdata\\local\\programs\\python\\python39\\lib\\site-packages (from jupyterlab->jupyter->-r requirements.txt (line 1)) (2.0.4)\n",
      "Requirement already satisfied: httpx>=0.25.0 in c:\\users\\dhanr\\appdata\\local\\programs\\python\\python39\\lib\\site-packages (from jupyterlab->jupyter->-r requirements.txt (line 1)) (0.25.0)\n",
      "Requirement already satisfied: importlib-metadata>=4.8.3 in c:\\users\\dhanr\\appdata\\local\\programs\\python\\python39\\lib\\site-packages (from jupyterlab->jupyter->-r requirements.txt (line 1)) (6.8.0)\n",
      "Requirement already satisfied: jinja2>=3.0.3 in c:\\users\\dhanr\\appdata\\local\\programs\\python\\python39\\lib\\site-packages (from jupyterlab->jupyter->-r requirements.txt (line 1)) (3.1.2)\n",
      "Requirement already satisfied: jupyter-lsp>=2.0.0 in c:\\users\\dhanr\\appdata\\local\\programs\\python\\python39\\lib\\site-packages (from jupyterlab->jupyter->-r requirements.txt (line 1)) (2.2.5)\n",
      "Requirement already satisfied: jupyter-server<3,>=2.4.0 in c:\\users\\dhanr\\appdata\\local\\programs\\python\\python39\\lib\\site-packages (from jupyterlab->jupyter->-r requirements.txt (line 1)) (2.14.2)\n",
      "Requirement already satisfied: jupyterlab-server<3,>=2.27.1 in c:\\users\\dhanr\\appdata\\local\\programs\\python\\python39\\lib\\site-packages (from jupyterlab->jupyter->-r requirements.txt (line 1)) (2.27.3)\n",
      "Requirement already satisfied: notebook-shim>=0.2 in c:\\users\\dhanr\\appdata\\local\\programs\\python\\python39\\lib\\site-packages (from jupyterlab->jupyter->-r requirements.txt (line 1)) (0.2.4)\n",
      "Requirement already satisfied: setuptools>=40.1.0 in c:\\users\\dhanr\\appdata\\local\\programs\\python\\python39\\lib\\site-packages (from jupyterlab->jupyter->-r requirements.txt (line 1)) (58.1.0)\n",
      "Requirement already satisfied: tomli>=1.2.2 in c:\\users\\dhanr\\appdata\\local\\programs\\python\\python39\\lib\\site-packages (from jupyterlab->jupyter->-r requirements.txt (line 1)) (2.0.1)\n",
      "Requirement already satisfied: beautifulsoup4 in c:\\users\\dhanr\\appdata\\local\\programs\\python\\python39\\lib\\site-packages (from nbconvert->jupyter->-r requirements.txt (line 1)) (4.12.2)\n",
      "Requirement already satisfied: bleach!=5.0.0 in c:\\users\\dhanr\\appdata\\local\\programs\\python\\python39\\lib\\site-packages (from nbconvert->jupyter->-r requirements.txt (line 1)) (6.1.0)\n",
      "Requirement already satisfied: defusedxml in c:\\users\\dhanr\\appdata\\local\\programs\\python\\python39\\lib\\site-packages (from nbconvert->jupyter->-r requirements.txt (line 1)) (0.7.1)\n",
      "Requirement already satisfied: jupyterlab-pygments in c:\\users\\dhanr\\appdata\\local\\programs\\python\\python39\\lib\\site-packages (from nbconvert->jupyter->-r requirements.txt (line 1)) (0.3.0)\n",
      "Requirement already satisfied: markupsafe>=2.0 in c:\\users\\dhanr\\appdata\\local\\programs\\python\\python39\\lib\\site-packages (from nbconvert->jupyter->-r requirements.txt (line 1)) (2.1.3)\n",
      "Requirement already satisfied: mistune<4,>=2.0.3 in c:\\users\\dhanr\\appdata\\local\\programs\\python\\python39\\lib\\site-packages (from nbconvert->jupyter->-r requirements.txt (line 1)) (3.0.2)\n",
      "Requirement already satisfied: nbclient>=0.5.0 in c:\\users\\dhanr\\appdata\\local\\programs\\python\\python39\\lib\\site-packages (from nbconvert->jupyter->-r requirements.txt (line 1)) (0.10.0)\n",
      "Requirement already satisfied: nbformat>=5.7 in c:\\users\\dhanr\\appdata\\local\\programs\\python\\python39\\lib\\site-packages (from nbconvert->jupyter->-r requirements.txt (line 1)) (5.10.4)\n",
      "Requirement already satisfied: pandocfilters>=1.4.1 in c:\\users\\dhanr\\appdata\\local\\programs\\python\\python39\\lib\\site-packages (from nbconvert->jupyter->-r requirements.txt (line 1)) (1.5.1)\n",
      "Requirement already satisfied: tinycss2 in c:\\users\\dhanr\\appdata\\local\\programs\\python\\python39\\lib\\site-packages (from nbconvert->jupyter->-r requirements.txt (line 1)) (1.3.0)\n",
      "Requirement already satisfied: six>=1.9.0 in c:\\users\\dhanr\\appdata\\local\\programs\\python\\python39\\lib\\site-packages (from bleach!=5.0.0->nbconvert->jupyter->-r requirements.txt (line 1)) (1.16.0)\n",
      "Requirement already satisfied: webencodings in c:\\users\\dhanr\\appdata\\local\\programs\\python\\python39\\lib\\site-packages (from bleach!=5.0.0->nbconvert->jupyter->-r requirements.txt (line 1)) (0.5.1)\n",
      "Requirement already satisfied: certifi in c:\\users\\dhanr\\appdata\\local\\programs\\python\\python39\\lib\\site-packages (from httpx>=0.25.0->jupyterlab->jupyter->-r requirements.txt (line 1)) (2023.7.22)\n",
      "Requirement already satisfied: httpcore<0.19.0,>=0.18.0 in c:\\users\\dhanr\\appdata\\local\\programs\\python\\python39\\lib\\site-packages (from httpx>=0.25.0->jupyterlab->jupyter->-r requirements.txt (line 1)) (0.18.0)\n",
      "Requirement already satisfied: idna in c:\\users\\dhanr\\appdata\\local\\programs\\python\\python39\\lib\\site-packages (from httpx>=0.25.0->jupyterlab->jupyter->-r requirements.txt (line 1)) (3.4)\n",
      "Requirement already satisfied: sniffio in c:\\users\\dhanr\\appdata\\local\\programs\\python\\python39\\lib\\site-packages (from httpx>=0.25.0->jupyterlab->jupyter->-r requirements.txt (line 1)) (1.3.0)\n",
      "Requirement already satisfied: zipp>=0.5 in c:\\users\\dhanr\\appdata\\local\\programs\\python\\python39\\lib\\site-packages (from importlib-metadata>=4.8.3->jupyterlab->jupyter->-r requirements.txt (line 1)) (3.17.0)\n",
      "Requirement already satisfied: parso<0.9.0,>=0.8.3 in c:\\users\\dhanr\\appdata\\local\\programs\\python\\python39\\lib\\site-packages (from jedi>=0.16->ipython>=6.1.0->ipywidgets->-r requirements.txt (line 2)) (0.8.4)\n",
      "Requirement already satisfied: python-dateutil>=2.8.2 in c:\\users\\dhanr\\appdata\\local\\programs\\python\\python39\\lib\\site-packages (from jupyter-client>=6.1.12->ipykernel->jupyter->-r requirements.txt (line 1)) (2.8.2)\n",
      "Requirement already satisfied: platformdirs>=2.5 in c:\\users\\dhanr\\appdata\\local\\programs\\python\\python39\\lib\\site-packages (from jupyter-core!=5.0.*,>=4.12->ipykernel->jupyter->-r requirements.txt (line 1)) (4.3.2)\n",
      "Requirement already satisfied: pywin32>=300 in c:\\users\\dhanr\\appdata\\local\\programs\\python\\python39\\lib\\site-packages (from jupyter-core!=5.0.*,>=4.12->ipykernel->jupyter->-r requirements.txt (line 1)) (306)\n",
      "Requirement already satisfied: anyio>=3.1.0 in c:\\users\\dhanr\\appdata\\local\\programs\\python\\python39\\lib\\site-packages (from jupyter-server<3,>=2.4.0->jupyterlab->jupyter->-r requirements.txt (line 1)) (3.7.1)\n",
      "Requirement already satisfied: argon2-cffi>=21.1 in c:\\users\\dhanr\\appdata\\local\\programs\\python\\python39\\lib\\site-packages (from jupyter-server<3,>=2.4.0->jupyterlab->jupyter->-r requirements.txt (line 1)) (23.1.0)\n",
      "Requirement already satisfied: jupyter-events>=0.9.0 in c:\\users\\dhanr\\appdata\\local\\programs\\python\\python39\\lib\\site-packages (from jupyter-server<3,>=2.4.0->jupyterlab->jupyter->-r requirements.txt (line 1)) (0.10.0)\n",
      "Requirement already satisfied: jupyter-server-terminals>=0.4.4 in c:\\users\\dhanr\\appdata\\local\\programs\\python\\python39\\lib\\site-packages (from jupyter-server<3,>=2.4.0->jupyterlab->jupyter->-r requirements.txt (line 1)) (0.5.3)\n",
      "Requirement already satisfied: overrides>=5.0 in c:\\users\\dhanr\\appdata\\local\\programs\\python\\python39\\lib\\site-packages (from jupyter-server<3,>=2.4.0->jupyterlab->jupyter->-r requirements.txt (line 1)) (7.7.0)\n",
      "Requirement already satisfied: prometheus-client>=0.9 in c:\\users\\dhanr\\appdata\\local\\programs\\python\\python39\\lib\\site-packages (from jupyter-server<3,>=2.4.0->jupyterlab->jupyter->-r requirements.txt (line 1)) (0.20.0)\n",
      "Requirement already satisfied: pywinpty>=2.0.1 in c:\\users\\dhanr\\appdata\\local\\programs\\python\\python39\\lib\\site-packages (from jupyter-server<3,>=2.4.0->jupyterlab->jupyter->-r requirements.txt (line 1)) (2.0.13)\n",
      "Requirement already satisfied: send2trash>=1.8.2 in c:\\users\\dhanr\\appdata\\local\\programs\\python\\python39\\lib\\site-packages (from jupyter-server<3,>=2.4.0->jupyterlab->jupyter->-r requirements.txt (line 1)) (1.8.3)\n",
      "Requirement already satisfied: terminado>=0.8.3 in c:\\users\\dhanr\\appdata\\local\\programs\\python\\python39\\lib\\site-packages (from jupyter-server<3,>=2.4.0->jupyterlab->jupyter->-r requirements.txt (line 1)) (0.18.1)\n",
      "Requirement already satisfied: websocket-client>=1.7 in c:\\users\\dhanr\\appdata\\local\\programs\\python\\python39\\lib\\site-packages (from jupyter-server<3,>=2.4.0->jupyterlab->jupyter->-r requirements.txt (line 1)) (1.8.0)\n",
      "Requirement already satisfied: babel>=2.10 in c:\\users\\dhanr\\appdata\\local\\programs\\python\\python39\\lib\\site-packages (from jupyterlab-server<3,>=2.27.1->jupyterlab->jupyter->-r requirements.txt (line 1)) (2.16.0)\n",
      "Requirement already satisfied: json5>=0.9.0 in c:\\users\\dhanr\\appdata\\local\\programs\\python\\python39\\lib\\site-packages (from jupyterlab-server<3,>=2.27.1->jupyterlab->jupyter->-r requirements.txt (line 1)) (0.9.25)\n",
      "Requirement already satisfied: jsonschema>=4.18.0 in c:\\users\\dhanr\\appdata\\local\\programs\\python\\python39\\lib\\site-packages (from jupyterlab-server<3,>=2.27.1->jupyterlab->jupyter->-r requirements.txt (line 1)) (4.19.1)\n",
      "Requirement already satisfied: requests>=2.31 in c:\\users\\dhanr\\appdata\\local\\programs\\python\\python39\\lib\\site-packages (from jupyterlab-server<3,>=2.27.1->jupyterlab->jupyter->-r requirements.txt (line 1)) (2.31.0)\n",
      "Requirement already satisfied: fastjsonschema>=2.15 in c:\\users\\dhanr\\appdata\\local\\programs\\python\\python39\\lib\\site-packages (from nbformat>=5.7->nbconvert->jupyter->-r requirements.txt (line 1)) (2.20.0)\n",
      "Requirement already satisfied: wcwidth in c:\\users\\dhanr\\appdata\\local\\programs\\python\\python39\\lib\\site-packages (from prompt-toolkit<3.1.0,>=3.0.41->ipython>=6.1.0->ipywidgets->-r requirements.txt (line 2)) (0.2.13)\n",
      "Requirement already satisfied: soupsieve>1.2 in c:\\users\\dhanr\\appdata\\local\\programs\\python\\python39\\lib\\site-packages (from beautifulsoup4->nbconvert->jupyter->-r requirements.txt (line 1)) (2.5)\n",
      "Requirement already satisfied: executing>=1.2.0 in c:\\users\\dhanr\\appdata\\local\\programs\\python\\python39\\lib\\site-packages (from stack-data->ipython>=6.1.0->ipywidgets->-r requirements.txt (line 2)) (2.1.0)\n",
      "Requirement already satisfied: asttokens>=2.1.0 in c:\\users\\dhanr\\appdata\\local\\programs\\python\\python39\\lib\\site-packages (from stack-data->ipython>=6.1.0->ipywidgets->-r requirements.txt (line 2)) (2.4.1)\n",
      "Requirement already satisfied: pure-eval in c:\\users\\dhanr\\appdata\\local\\programs\\python\\python39\\lib\\site-packages (from stack-data->ipython>=6.1.0->ipywidgets->-r requirements.txt (line 2)) (0.2.3)\n",
      "Requirement already satisfied: argon2-cffi-bindings in c:\\users\\dhanr\\appdata\\local\\programs\\python\\python39\\lib\\site-packages (from argon2-cffi>=21.1->jupyter-server<3,>=2.4.0->jupyterlab->jupyter->-r requirements.txt (line 1)) (21.2.0)\n",
      "Requirement already satisfied: h11<0.15,>=0.13 in c:\\users\\dhanr\\appdata\\local\\programs\\python\\python39\\lib\\site-packages (from httpcore<0.19.0,>=0.18.0->httpx>=0.25.0->jupyterlab->jupyter->-r requirements.txt (line 1)) (0.14.0)\n",
      "Requirement already satisfied: attrs>=22.2.0 in c:\\users\\dhanr\\appdata\\local\\programs\\python\\python39\\lib\\site-packages (from jsonschema>=4.18.0->jupyterlab-server<3,>=2.27.1->jupyterlab->jupyter->-r requirements.txt (line 1)) (23.1.0)\n",
      "Requirement already satisfied: jsonschema-specifications>=2023.03.6 in c:\\users\\dhanr\\appdata\\local\\programs\\python\\python39\\lib\\site-packages (from jsonschema>=4.18.0->jupyterlab-server<3,>=2.27.1->jupyterlab->jupyter->-r requirements.txt (line 1)) (2023.7.1)\n",
      "Requirement already satisfied: referencing>=0.28.4 in c:\\users\\dhanr\\appdata\\local\\programs\\python\\python39\\lib\\site-packages (from jsonschema>=4.18.0->jupyterlab-server<3,>=2.27.1->jupyterlab->jupyter->-r requirements.txt (line 1)) (0.30.2)\n",
      "Requirement already satisfied: rpds-py>=0.7.1 in c:\\users\\dhanr\\appdata\\local\\programs\\python\\python39\\lib\\site-packages (from jsonschema>=4.18.0->jupyterlab-server<3,>=2.27.1->jupyterlab->jupyter->-r requirements.txt (line 1)) (0.10.3)\n",
      "Requirement already satisfied: python-json-logger>=2.0.4 in c:\\users\\dhanr\\appdata\\local\\programs\\python\\python39\\lib\\site-packages (from jupyter-events>=0.9.0->jupyter-server<3,>=2.4.0->jupyterlab->jupyter->-r requirements.txt (line 1)) (2.0.7)\n",
      "Requirement already satisfied: pyyaml>=5.3 in c:\\users\\dhanr\\appdata\\local\\programs\\python\\python39\\lib\\site-packages (from jupyter-events>=0.9.0->jupyter-server<3,>=2.4.0->jupyterlab->jupyter->-r requirements.txt (line 1)) (6.0.1)\n",
      "Requirement already satisfied: rfc3339-validator in c:\\users\\dhanr\\appdata\\local\\programs\\python\\python39\\lib\\site-packages (from jupyter-events>=0.9.0->jupyter-server<3,>=2.4.0->jupyterlab->jupyter->-r requirements.txt (line 1)) (0.1.4)\n",
      "Requirement already satisfied: rfc3986-validator>=0.1.1 in c:\\users\\dhanr\\appdata\\local\\programs\\python\\python39\\lib\\site-packages (from jupyter-events>=0.9.0->jupyter-server<3,>=2.4.0->jupyterlab->jupyter->-r requirements.txt (line 1)) (0.1.1)\n",
      "Requirement already satisfied: charset-normalizer<4,>=2 in c:\\users\\dhanr\\appdata\\local\\programs\\python\\python39\\lib\\site-packages (from requests>=2.31->jupyterlab-server<3,>=2.27.1->jupyterlab->jupyter->-r requirements.txt (line 1)) (3.2.0)\n",
      "Requirement already satisfied: urllib3<3,>=1.21.1 in c:\\users\\dhanr\\appdata\\local\\programs\\python\\python39\\lib\\site-packages (from requests>=2.31->jupyterlab-server<3,>=2.27.1->jupyterlab->jupyter->-r requirements.txt (line 1)) (1.26.16)\n",
      "Requirement already satisfied: fqdn in c:\\users\\dhanr\\appdata\\local\\programs\\python\\python39\\lib\\site-packages (from jsonschema[format-nongpl]>=4.18.0->jupyter-events>=0.9.0->jupyter-server<3,>=2.4.0->jupyterlab->jupyter->-r requirements.txt (line 1)) (1.5.1)\n",
      "Requirement already satisfied: isoduration in c:\\users\\dhanr\\appdata\\local\\programs\\python\\python39\\lib\\site-packages (from jsonschema[format-nongpl]>=4.18.0->jupyter-events>=0.9.0->jupyter-server<3,>=2.4.0->jupyterlab->jupyter->-r requirements.txt (line 1)) (20.11.0)\n",
      "Requirement already satisfied: jsonpointer>1.13 in c:\\users\\dhanr\\appdata\\local\\programs\\python\\python39\\lib\\site-packages (from jsonschema[format-nongpl]>=4.18.0->jupyter-events>=0.9.0->jupyter-server<3,>=2.4.0->jupyterlab->jupyter->-r requirements.txt (line 1)) (2.4)\n",
      "Requirement already satisfied: uri-template in c:\\users\\dhanr\\appdata\\local\\programs\\python\\python39\\lib\\site-packages (from jsonschema[format-nongpl]>=4.18.0->jupyter-events>=0.9.0->jupyter-server<3,>=2.4.0->jupyterlab->jupyter->-r requirements.txt (line 1)) (1.3.0)\n",
      "Requirement already satisfied: webcolors>=1.11 in c:\\users\\dhanr\\appdata\\local\\programs\\python\\python39\\lib\\site-packages (from jsonschema[format-nongpl]>=4.18.0->jupyter-events>=0.9.0->jupyter-server<3,>=2.4.0->jupyterlab->jupyter->-r requirements.txt (line 1)) (24.8.0)\n",
      "Requirement already satisfied: cffi>=1.0.1 in c:\\users\\dhanr\\appdata\\local\\programs\\python\\python39\\lib\\site-packages (from argon2-cffi-bindings->argon2-cffi>=21.1->jupyter-server<3,>=2.4.0->jupyterlab->jupyter->-r requirements.txt (line 1)) (1.17.1)\n",
      "Requirement already satisfied: pycparser in c:\\users\\dhanr\\appdata\\local\\programs\\python\\python39\\lib\\site-packages (from cffi>=1.0.1->argon2-cffi-bindings->argon2-cffi>=21.1->jupyter-server<3,>=2.4.0->jupyterlab->jupyter->-r requirements.txt (line 1)) (2.22)\n",
      "Requirement already satisfied: arrow>=0.15.0 in c:\\users\\dhanr\\appdata\\local\\programs\\python\\python39\\lib\\site-packages (from isoduration->jsonschema[format-nongpl]>=4.18.0->jupyter-events>=0.9.0->jupyter-server<3,>=2.4.0->jupyterlab->jupyter->-r requirements.txt (line 1)) (1.2.3)\n",
      "Using cached jupyter-1.1.1-py2.py3-none-any.whl (2.7 kB)\n",
      "Using cached ipywidgets-8.1.5-py3-none-any.whl (139 kB)\n",
      "Using cached jupyterlab_widgets-3.0.13-py3-none-any.whl (214 kB)\n",
      "Using cached widgetsnbextension-4.0.13-py3-none-any.whl (2.3 MB)\n",
      "Using cached jupyter_console-6.6.3-py3-none-any.whl (24 kB)\n",
      "Installing collected packages: widgetsnbextension, jupyterlab-widgets, ipywidgets, jupyter-console, jupyter\n",
      "Successfully installed ipywidgets-8.1.5 jupyter-1.1.1 jupyter-console-6.6.3 jupyterlab-widgets-3.0.13 widgetsnbextension-4.0.13\n",
      "Note: you may need to restart the kernel to use updated packages.\n"
     ]
    },
    {
     "name": "stderr",
     "output_type": "stream",
     "text": [
      "\n",
      "[notice] A new release of pip is available: 24.1.2 -> 24.2\n",
      "[notice] To update, run: C:\\Users\\dhanr\\AppData\\Local\\Programs\\Python\\Python39\\python.exe -m pip install --upgrade pip\n"
     ]
    }
   ],
   "source": [
    "pip install -r requirements.txt"
   ]
  },
  {
   "cell_type": "code",
   "execution_count": 1,
   "id": "72ed752b-d847-4863-b859-bd476f4bd2f9",
   "metadata": {},
   "outputs": [
    {
     "ename": "ModuleNotFoundError",
     "evalue": "No module named 'ipywidgets'",
     "output_type": "error",
     "traceback": [
      "\u001b[1;31m---------------------------------------------------------------------------\u001b[0m",
      "\u001b[1;31mModuleNotFoundError\u001b[0m                       Traceback (most recent call last)",
      "Cell \u001b[1;32mIn[1], line 3\u001b[0m\n\u001b[0;32m      1\u001b[0m \u001b[38;5;28;01mimport\u001b[39;00m \u001b[38;5;21;01mnumpy\u001b[39;00m \u001b[38;5;28;01mas\u001b[39;00m \u001b[38;5;21;01mnp\u001b[39;00m\n\u001b[0;32m      2\u001b[0m \u001b[38;5;28;01mimport\u001b[39;00m \u001b[38;5;21;01mplotly\u001b[39;00m\u001b[38;5;21;01m.\u001b[39;00m\u001b[38;5;21;01mgraph_objs\u001b[39;00m \u001b[38;5;28;01mas\u001b[39;00m \u001b[38;5;21;01mgo\u001b[39;00m\n\u001b[1;32m----> 3\u001b[0m \u001b[38;5;28;01mimport\u001b[39;00m \u001b[38;5;21;01mipywidgets\u001b[39;00m \u001b[38;5;28;01mas\u001b[39;00m \u001b[38;5;21;01mwidgets\u001b[39;00m\n\u001b[0;32m      4\u001b[0m \u001b[38;5;28;01mfrom\u001b[39;00m \u001b[38;5;21;01mscipy\u001b[39;00m\u001b[38;5;21;01m.\u001b[39;00m\u001b[38;5;21;01mstats\u001b[39;00m \u001b[38;5;28;01mimport\u001b[39;00m norm\n\u001b[0;32m      5\u001b[0m \u001b[38;5;28;01mfrom\u001b[39;00m \u001b[38;5;21;01mIPython\u001b[39;00m\u001b[38;5;21;01m.\u001b[39;00m\u001b[38;5;21;01mdisplay\u001b[39;00m \u001b[38;5;28;01mimport\u001b[39;00m display\n",
      "\u001b[1;31mModuleNotFoundError\u001b[0m: No module named 'ipywidgets'"
     ]
    }
   ],
   "source": [
    "import numpy as np\n",
    "import plotly.graph_objs as go\n",
    "import ipywidgets as widgets\n",
    "from scipy.stats import norm\n",
    "from IPython.display import display"
   ]
  },
  {
   "cell_type": "code",
   "execution_count": null,
   "id": "ba88d8de-50de-4686-89cf-5daecd735ae4",
   "metadata": {},
   "outputs": [],
   "source": [
    "def black_scholes_call(S, K, T, r, sigma):\n",
    "    d1 = (np.log(S / K) + (r + 0.5 * sigma ** 2) * T) / (sigma * np.sqrt(T))\n",
    "    d2 = d1 - sigma * np.sqrt(T)\n",
    "    call_price = S * norm.cdf(d1) - K * np.exp(-r * T) * norm.cdf(d2)\n",
    "    return call_price"
   ]
  },
  {
   "cell_type": "code",
   "execution_count": null,
   "id": "68f537c8-a4a3-4408-b73e-a2cf149e2a33",
   "metadata": {},
   "outputs": [],
   "source": [
    "def update_plot(S, K, T, r, sigma):\n",
    "    call_price = black_scholes_call(S, K, T, r, sigma)\n",
    "    fig = go.Figure(data=[go.Scatter(x=[T], y=[call_price], mode='lines', name='Call Option Price')])\n",
    "    fig.update_layout(title=\"Black-Scholes Call Option Price\", xaxis_title=\"Time to Maturity (Years)\", yaxis_title=\"Option Price\")\n",
    "    fig.show()"
   ]
  },
  {
   "cell_type": "code",
   "execution_count": null,
   "id": "8bc5f81e-7f32-4ec3-945e-b3f75f9753c4",
   "metadata": {},
   "outputs": [],
   "source": [
    "S_slider = widgets.FloatSlider(value=100, min=50, max=200, step=1, description='Stock Price')\n",
    "K_slider = widgets.FloatSlider(value=100, min=50, max=200, step=1, description='Strike Price')\n",
    "T_slider = widgets.FloatSlider(value=1, min=0.1, max=2, step=0.1, description='Maturity (T)')\n",
    "r_slider = widgets.FloatSlider(value=0.05, min=0, max=0.1, step=0.01, description='Risk-free Rate')\n",
    "sigma_slider = widgets.FloatSlider(value=0.2, min=0.1, max=0.5, step=0.01, description='Volatility')"
   ]
  },
  {
   "cell_type": "code",
   "execution_count": null,
   "id": "c92fff7f-4862-4d71-8d7f-edd0f5a56ee8",
   "metadata": {},
   "outputs": [],
   "source": [
    "ui = widgets.VBox([S_slider, K_slider, T_slider, r_slider, sigma_slider])\n",
    "out = widgets.interactive_output(update_plot, {'S': S_slider, 'K': K_slider, 'T': T_slider, 'r': r_slider, 'sigma': sigma_slider})"
   ]
  },
  {
   "cell_type": "code",
   "execution_count": null,
   "id": "16542e18-a553-4a9c-b755-01259003f3fb",
   "metadata": {},
   "outputs": [],
   "source": [
    "display(ui, out)"
   ]
  }
 ],
 "metadata": {
  "kernelspec": {
   "display_name": "Python 3 (ipykernel)",
   "language": "python",
   "name": "python3"
  },
  "language_info": {
   "codemirror_mode": {
    "name": "ipython",
    "version": 3
   },
   "file_extension": ".py",
   "mimetype": "text/x-python",
   "name": "python",
   "nbconvert_exporter": "python",
   "pygments_lexer": "ipython3",
   "version": "3.9.9"
  }
 },
 "nbformat": 4,
 "nbformat_minor": 5
}
